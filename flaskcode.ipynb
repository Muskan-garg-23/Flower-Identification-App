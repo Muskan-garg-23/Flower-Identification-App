{
 "cells": [
  {
   "cell_type": "code",
   "execution_count": 1,
   "id": "afcf3707",
   "metadata": {},
   "outputs": [
    {
     "name": "stdout",
     "output_type": "stream",
     "text": [
      "hello\n"
     ]
    }
   ],
   "source": [
    "print(\"hello\")"
   ]
  },
  {
   "cell_type": "code",
   "execution_count": 2,
   "id": "bd9bfe93",
   "metadata": {},
   "outputs": [],
   "source": [
    "output = \"its a tree\""
   ]
  },
  {
   "cell_type": "code",
   "execution_count": null,
   "id": "c976f2cd",
   "metadata": {},
   "outputs": [
    {
     "name": "stdout",
     "output_type": "stream",
     "text": [
      " * Serving Flask app '__main__'\n",
      " * Debug mode: off\n"
     ]
    },
    {
     "name": "stderr",
     "output_type": "stream",
     "text": [
      "WARNING: This is a development server. Do not use it in a production deployment. Use a production WSGI server instead.\n",
      " * Running on http://127.0.0.1:5000\n",
      "Press CTRL+C to quit\n",
      "127.0.0.1 - - [20/Sep/2022 06:12:06] \"GET / HTTP/1.1\" 200 -\n",
      "127.0.0.1 - - [20/Sep/2022 06:12:13] \"POST /result HTTP/1.1\" 200 -\n"
     ]
    }
   ],
   "source": [
    "from flask import Flask,render_template,request,redirect\n",
    "app=Flask(__name__)\n",
    "\n",
    "@app.route(\"/\")\n",
    "@app.route(\"/home\")\n",
    "def home():\n",
    "    return render_template(\"index.html\")\n",
    "\n",
    "@app.route(\"/result\",methods = ['POST','GET'])\n",
    "def result():\n",
    "    if request.method=='POST':\n",
    "        #user=request.form['name']\n",
    "        #return f\"hi i am {user}\"\n",
    "        return f\"output is {output}\"\n",
    "        #return redirect(request.url)\n",
    "    else:\n",
    "        #user=request.args.get('nm')\n",
    "        #return f\"hi i am {user}\"\n",
    "        return f\"output is {output}\"\n",
    "        #return redirect(request.url)\n",
    "    \n",
    "    \n",
    "\n",
    "if __name__== \"__main__\":\n",
    "    app.run()"
   ]
  },
  {
   "cell_type": "code",
   "execution_count": null,
   "id": "faa709dd",
   "metadata": {},
   "outputs": [],
   "source": []
  }
 ],
 "metadata": {
  "kernelspec": {
   "display_name": "Python 3 (ipykernel)",
   "language": "python",
   "name": "python3"
  },
  "language_info": {
   "codemirror_mode": {
    "name": "ipython",
    "version": 3
   },
   "file_extension": ".py",
   "mimetype": "text/x-python",
   "name": "python",
   "nbconvert_exporter": "python",
   "pygments_lexer": "ipython3",
   "version": "3.10.0"
  }
 },
 "nbformat": 4,
 "nbformat_minor": 5
}
