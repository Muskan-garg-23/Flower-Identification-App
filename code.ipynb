{
 "cells": [
  {
   "cell_type": "code",
   "execution_count": 1,
   "id": "ccc0b31d",
   "metadata": {},
   "outputs": [],
   "source": [
    "#Importing libraries"
   ]
  },
  {
   "cell_type": "code",
   "execution_count": 2,
   "id": "79bb5c58",
   "metadata": {},
   "outputs": [],
   "source": [
    "import numpy as np\n",
    "import tensorflow as tf\n",
    "from keras.preprocessing.image import ImageDataGenerator"
   ]
  },
  {
   "cell_type": "code",
   "execution_count": 3,
   "id": "b43f1917",
   "metadata": {},
   "outputs": [],
   "source": [
    "#data preprocessing"
   ]
  },
  {
   "cell_type": "code",
   "execution_count": 4,
   "id": "5c34f653",
   "metadata": {},
   "outputs": [],
   "source": [
    "#training image processing"
   ]
  },
  {
   "cell_type": "code",
   "execution_count": 5,
   "id": "3d88f290",
   "metadata": {},
   "outputs": [
    {
     "name": "stdout",
     "output_type": "stream",
     "text": [
      "Found 2161 images belonging to 5 classes.\n"
     ]
    }
   ],
   "source": [
    "##binary\n",
    "train_datagen=ImageDataGenerator(\n",
    "    rescale=1./255,\n",
    "    shear_range=0.2,\n",
    "    zoom_range=0.2,\n",
    "    horizontal_flip=True)\n",
    "\n",
    "training_set=train_datagen.flow_from_directory(\n",
    "      'training_set',target_size=(64,64),batch_size=32,class_mode='categorical') "
   ]
  },
  {
   "cell_type": "code",
   "execution_count": 6,
   "id": "d6815a4d",
   "metadata": {},
   "outputs": [],
   "source": [
    "\n",
    "#Test Image processing"
   ]
  },
  {
   "cell_type": "code",
   "execution_count": 7,
   "id": "e78edaec",
   "metadata": {},
   "outputs": [
    {
     "name": "stdout",
     "output_type": "stream",
     "text": [
      "Found 1310 images belonging to 5 classes.\n"
     ]
    }
   ],
   "source": [
    "test_datagen=ImageDataGenerator(rescale=1./255)\n",
    "test_set=test_datagen.flow_from_directory('test_set',target_size=(64,64),batch_size=32,class_mode='categorical')\n"
   ]
  },
  {
   "cell_type": "code",
   "execution_count": 8,
   "id": "f9c6003e",
   "metadata": {},
   "outputs": [],
   "source": [
    "#Building model"
   ]
  },
  {
   "cell_type": "code",
   "execution_count": 9,
   "id": "b988576a",
   "metadata": {},
   "outputs": [],
   "source": [
    "cnn=tf.keras.models.Sequential()"
   ]
  },
  {
   "cell_type": "code",
   "execution_count": 10,
   "id": "d3c4b8d2",
   "metadata": {},
   "outputs": [],
   "source": [
    "#Building Convolution layer"
   ]
  },
  {
   "cell_type": "code",
   "execution_count": 11,
   "id": "0b517800",
   "metadata": {},
   "outputs": [],
   "source": [
    "cnn.add(tf.keras.layers.Conv2D(filters=64,kernel_size=3,activation='relu',input_shape=[64,64,3]))"
   ]
  },
  {
   "cell_type": "code",
   "execution_count": 12,
   "id": "99e1b9ef",
   "metadata": {},
   "outputs": [],
   "source": [
    "cnn.add(tf.keras.layers.MaxPool2D(pool_size=2,strides=2))"
   ]
  },
  {
   "cell_type": "code",
   "execution_count": 13,
   "id": "40b5e3dd",
   "metadata": {},
   "outputs": [],
   "source": [
    "cnn.add(tf.keras.layers.Conv2D(filters=64,kernel_size=3,activation='relu'))\n",
    "cnn.add(tf.keras.layers.MaxPool2D(pool_size=2,strides=2))"
   ]
  },
  {
   "cell_type": "code",
   "execution_count": 14,
   "id": "fab8218e",
   "metadata": {},
   "outputs": [],
   "source": [
    "cnn.add(tf.keras.layers.Dropout(0.5))"
   ]
  },
  {
   "cell_type": "code",
   "execution_count": 15,
   "id": "caddb6d2",
   "metadata": {},
   "outputs": [],
   "source": [
    "cnn.add(tf.keras.layers.Flatten())"
   ]
  },
  {
   "cell_type": "code",
   "execution_count": 16,
   "id": "3d6b8178",
   "metadata": {},
   "outputs": [],
   "source": [
    "#hidden layer\n",
    "cnn.add(tf.keras.layers.Dense(units=128,activation='relu'))"
   ]
  },
  {
   "cell_type": "code",
   "execution_count": 17,
   "id": "b982b559",
   "metadata": {},
   "outputs": [],
   "source": [
    "#output layer ##binary\n",
    "cnn.add(tf.keras.layers.Dense(units=5,activation='softmax'))"
   ]
  },
  {
   "cell_type": "code",
   "execution_count": 18,
   "id": "49345a62",
   "metadata": {},
   "outputs": [],
   "source": [
    "#to compile the code  ##binary\n",
    "cnn.compile(optimizer='rmsprop',loss='categorical_crossentropy',metrics=['accuracy'])"
   ]
  },
  {
   "cell_type": "code",
   "execution_count": 19,
   "id": "b28cd536",
   "metadata": {},
   "outputs": [
    {
     "name": "stdout",
     "output_type": "stream",
     "text": [
      "Epoch 1/30\n",
      "68/68 [==============================] - 15s 214ms/step - loss: 1.4253 - accuracy: 0.3989 - val_loss: 1.1347 - val_accuracy: 0.5046\n",
      "Epoch 2/30\n",
      "68/68 [==============================] - 14s 203ms/step - loss: 1.1792 - accuracy: 0.5220 - val_loss: 1.0758 - val_accuracy: 0.5802\n",
      "Epoch 3/30\n",
      "68/68 [==============================] - 13s 188ms/step - loss: 1.0821 - accuracy: 0.5687 - val_loss: 0.9199 - val_accuracy: 0.6504\n",
      "Epoch 4/30\n",
      "68/68 [==============================] - 14s 213ms/step - loss: 1.0084 - accuracy: 0.6043 - val_loss: 0.9904 - val_accuracy: 0.6008\n",
      "Epoch 5/30\n",
      "68/68 [==============================] - 14s 202ms/step - loss: 0.9448 - accuracy: 0.6321 - val_loss: 0.8724 - val_accuracy: 0.6641\n",
      "Epoch 6/30\n",
      "68/68 [==============================] - 15s 223ms/step - loss: 0.8989 - accuracy: 0.6520 - val_loss: 0.8147 - val_accuracy: 0.6870\n",
      "Epoch 7/30\n",
      "68/68 [==============================] - 16s 238ms/step - loss: 0.8392 - accuracy: 0.6807 - val_loss: 0.7923 - val_accuracy: 0.7015\n",
      "Epoch 8/30\n",
      "68/68 [==============================] - 19s 277ms/step - loss: 0.8139 - accuracy: 0.7006 - val_loss: 0.7786 - val_accuracy: 0.7115\n",
      "Epoch 9/30\n",
      "68/68 [==============================] - 19s 281ms/step - loss: 0.7744 - accuracy: 0.6946 - val_loss: 0.6557 - val_accuracy: 0.7550\n",
      "Epoch 10/30\n",
      "68/68 [==============================] - 19s 274ms/step - loss: 0.7434 - accuracy: 0.7372 - val_loss: 0.8001 - val_accuracy: 0.6901\n",
      "Epoch 11/30\n",
      "68/68 [==============================] - 20s 292ms/step - loss: 0.7228 - accuracy: 0.7210 - val_loss: 0.6514 - val_accuracy: 0.7427\n",
      "Epoch 12/30\n",
      "68/68 [==============================] - 19s 280ms/step - loss: 0.6729 - accuracy: 0.7404 - val_loss: 0.6195 - val_accuracy: 0.7824\n",
      "Epoch 13/30\n",
      "68/68 [==============================] - 18s 268ms/step - loss: 0.6799 - accuracy: 0.7381 - val_loss: 0.6301 - val_accuracy: 0.7603\n",
      "Epoch 14/30\n",
      "68/68 [==============================] - 19s 284ms/step - loss: 0.6233 - accuracy: 0.7640 - val_loss: 0.5252 - val_accuracy: 0.8137\n",
      "Epoch 15/30\n",
      "68/68 [==============================] - 19s 277ms/step - loss: 0.6173 - accuracy: 0.7742 - val_loss: 0.5128 - val_accuracy: 0.8206\n",
      "Epoch 16/30\n",
      "68/68 [==============================] - 19s 274ms/step - loss: 0.5873 - accuracy: 0.7779 - val_loss: 0.5541 - val_accuracy: 0.8023\n",
      "Epoch 17/30\n",
      "68/68 [==============================] - 19s 285ms/step - loss: 0.5606 - accuracy: 0.7890 - val_loss: 0.4284 - val_accuracy: 0.8405\n",
      "Epoch 18/30\n",
      "68/68 [==============================] - 19s 282ms/step - loss: 0.5527 - accuracy: 0.7945 - val_loss: 0.3939 - val_accuracy: 0.8878\n",
      "Epoch 19/30\n",
      "68/68 [==============================] - 18s 267ms/step - loss: 0.5376 - accuracy: 0.7982 - val_loss: 0.4167 - val_accuracy: 0.8466\n",
      "Epoch 20/30\n",
      "68/68 [==============================] - 18s 264ms/step - loss: 0.4968 - accuracy: 0.8209 - val_loss: 1.0235 - val_accuracy: 0.6374\n",
      "Epoch 21/30\n",
      "68/68 [==============================] - 18s 267ms/step - loss: 0.4910 - accuracy: 0.8205 - val_loss: 0.5053 - val_accuracy: 0.8252\n",
      "Epoch 22/30\n",
      "68/68 [==============================] - 18s 272ms/step - loss: 0.4764 - accuracy: 0.8283 - val_loss: 0.3470 - val_accuracy: 0.8779\n",
      "Epoch 23/30\n",
      "68/68 [==============================] - 18s 267ms/step - loss: 0.4605 - accuracy: 0.8357 - val_loss: 0.2730 - val_accuracy: 0.9046\n",
      "Epoch 24/30\n",
      "68/68 [==============================] - 19s 279ms/step - loss: 0.4140 - accuracy: 0.8510 - val_loss: 0.4617 - val_accuracy: 0.8168\n",
      "Epoch 25/30\n",
      "68/68 [==============================] - 18s 263ms/step - loss: 0.4436 - accuracy: 0.8260 - val_loss: 0.3663 - val_accuracy: 0.8664\n",
      "Epoch 26/30\n",
      "68/68 [==============================] - 18s 269ms/step - loss: 0.3991 - accuracy: 0.8519 - val_loss: 0.3540 - val_accuracy: 0.8748\n",
      "Epoch 27/30\n",
      "68/68 [==============================] - 18s 267ms/step - loss: 0.4002 - accuracy: 0.8519 - val_loss: 0.2503 - val_accuracy: 0.9267\n",
      "Epoch 28/30\n",
      "68/68 [==============================] - 17s 255ms/step - loss: 0.3863 - accuracy: 0.8644 - val_loss: 0.2224 - val_accuracy: 0.9305\n",
      "Epoch 29/30\n",
      "68/68 [==============================] - 19s 276ms/step - loss: 0.3901 - accuracy: 0.8621 - val_loss: 0.2118 - val_accuracy: 0.9405\n",
      "Epoch 30/30\n",
      "68/68 [==============================] - 18s 266ms/step - loss: 0.3488 - accuracy: 0.8769 - val_loss: 0.2711 - val_accuracy: 0.9092\n"
     ]
    },
    {
     "data": {
      "text/plain": [
       "<keras.callbacks.History at 0x299a0140eb0>"
      ]
     },
     "execution_count": 19,
     "metadata": {},
     "output_type": "execute_result"
    }
   ],
   "source": [
    "cnn.fit(x=training_set,validation_data=test_set,epochs=30) ##install scipy,pillow"
   ]
  },
  {
   "cell_type": "code",
   "execution_count": 20,
   "id": "82733bba",
   "metadata": {},
   "outputs": [],
   "source": [
    "#Preprocess new image"
   ]
  },
  {
   "cell_type": "code",
   "execution_count": 21,
   "id": "2e55e7af",
   "metadata": {},
   "outputs": [
    {
     "name": "stdout",
     "output_type": "stream",
     "text": [
      "1/1 [==============================] - 0s 163ms/step\n"
     ]
    }
   ],
   "source": [
    "from tensorflow.keras.preprocessing import image\n",
    "test_image=image.load_img('prediction/r.jpg',target_size=(64,64))\n",
    "test_image=image.img_to_array(test_image)\n",
    "test_image=np.expand_dims(test_image,axis=0)\n",
    "result=cnn.predict(test_image)"
   ]
  },
  {
   "cell_type": "code",
   "execution_count": 22,
   "id": "5c5f5ef8",
   "metadata": {},
   "outputs": [
    {
     "data": {
      "text/plain": [
       "{'daisy': 0, 'dandelion': 1, 'rose': 2, 'sunflower': 3, 'tulip': 4}"
      ]
     },
     "execution_count": 22,
     "metadata": {},
     "output_type": "execute_result"
    }
   ],
   "source": [
    "training_set.class_indices"
   ]
  },
  {
   "cell_type": "code",
   "execution_count": 23,
   "id": "dc25b4e1",
   "metadata": {},
   "outputs": [
    {
     "name": "stdout",
     "output_type": "stream",
     "text": [
      "[[0. 0. 1. 0. 0.]]\n"
     ]
    }
   ],
   "source": [
    "print(result)"
   ]
  },
  {
   "cell_type": "code",
   "execution_count": 24,
   "id": "a8d3c955",
   "metadata": {},
   "outputs": [
    {
     "name": "stdout",
     "output_type": "stream",
     "text": [
      "Rose\n"
     ]
    }
   ],
   "source": [
    "if result[0][0]==1:\n",
    "    output=\"daisy\"\n",
    "    print(\"Daisy \")\n",
    "elif result[0][1]==1:\n",
    "    output=\"dandelion\"\n",
    "    print(\"Dandelion\")\n",
    "elif result[0][2]==1:\n",
    "    output=\"rose\"\n",
    "    print(\"Rose\")\n",
    "elif result[0][3]==1:\n",
    "    output=\"sunflower\"\n",
    "    print(\"Sunflower\")\n",
    "elif result[0][4]==1:\n",
    "    output=\"tulip\"\n",
    "    print(\"Tulip\")"
   ]
  },
  {
   "cell_type": "code",
   "execution_count": null,
   "id": "85da7cbc",
   "metadata": {},
   "outputs": [
    {
     "name": "stdout",
     "output_type": "stream",
     "text": [
      " * Serving Flask app '__main__'\n",
      " * Debug mode: off\n"
     ]
    },
    {
     "name": "stderr",
     "output_type": "stream",
     "text": [
      "WARNING: This is a development server. Do not use it in a production deployment. Use a production WSGI server instead.\n",
      " * Running on http://127.0.0.1:5000\n",
      "Press CTRL+C to quit\n",
      "127.0.0.1 - - [20/Sep/2022 09:28:02] \"GET / HTTP/1.1\" 200 -\n",
      "127.0.0.1 - - [20/Sep/2022 09:28:02] \"GET /html.css HTTP/1.1\" 404 -\n",
      "127.0.0.1 - - [20/Sep/2022 09:28:02] \"GET /favicon.ico HTTP/1.1\" 404 -\n"
     ]
    }
   ],
   "source": [
    "from flask import Flask,render_template,request\n",
    "app=Flask(__name__)\n",
    "\n",
    "@app.route(\"/\")\n",
    "@app.route(\"/home\")\n",
    "def home():\n",
    "    return render_template(\"frontEND.html\")\n",
    "\n",
    "@app.route(\"/result\",methods = ['POST','GET'])\n",
    "def result():\n",
    "    if request.method=='POST':\n",
    "        #user=request.form['name']\n",
    "        #return f\"hi i am {user}\"\n",
    "        return f\"output is {output}\"\n",
    "    else:\n",
    "        #user=request.args.get('nm')\n",
    "        #return f\"hi i am {user}\"\n",
    "        return f\"output is {output}\"\n",
    "    \n",
    "    \n",
    "\n",
    "if __name__== \"__main__\":\n",
    "    app.run()"
   ]
  },
  {
   "cell_type": "code",
   "execution_count": null,
   "id": "2bb57f4e",
   "metadata": {},
   "outputs": [],
   "source": [
    "return render_template(\"....html\",'result')"
   ]
  }
 ],
 "metadata": {
  "kernelspec": {
   "display_name": "Python 3 (ipykernel)",
   "language": "python",
   "name": "python3"
  },
  "language_info": {
   "codemirror_mode": {
    "name": "ipython",
    "version": 3
   },
   "file_extension": ".py",
   "mimetype": "text/x-python",
   "name": "python",
   "nbconvert_exporter": "python",
   "pygments_lexer": "ipython3",
   "version": "3.9.12"
  }
 },
 "nbformat": 4,
 "nbformat_minor": 5
}
